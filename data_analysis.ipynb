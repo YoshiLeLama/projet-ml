{
 "cells": [
  {
   "cell_type": "code",
   "execution_count": null,
   "id": "e9480909-fbc1-43f5-acae-ffe77e8260d9",
   "metadata": {},
   "outputs": [],
   "source": [
    "import pandas as pd\n",
    "import numpy as np\n",
    "import matplotlib.pyplot as plt\n",
    "import seaborn as sns\n",
    "\n",
    "from sklearn.preprocessing import LabelEncoder"
   ]
  },
  {
   "cell_type": "code",
   "execution_count": null,
   "id": "dcd5ab02-9912-413d-b3b2-803a84e29fd9",
   "metadata": {},
   "outputs": [],
   "source": [
    "dataset = pd.read_csv(\"./train.csv\")\n",
    "dataset.describe()"
   ]
  },
  {
   "cell_type": "code",
   "execution_count": null,
   "id": "9d813131-98a4-418f-8a74-4f604a4f9c26",
   "metadata": {},
   "outputs": [],
   "source": [
    "# Statistiques sur le dataset entier\n",
    "\n",
    "plot_df = dataset.Transported.value_counts()\n",
    "plot_df.plot(kind=\"bar\")\n",
    "\n",
    "fig, ax = plt.subplots(7,1,  figsize=(10, 10))\n",
    "plt.subplots_adjust(top = 2)\n",
    "\n",
    "sns.histplot(dataset['Age'], color='b', bins=50, ax=ax[0]);\n",
    "sns.histplot(dataset['FoodCourt'], color='b', bins=50, ax=ax[1]);\n",
    "sns.histplot(dataset['ShoppingMall'], color='b', bins=50, ax=ax[2]);\n",
    "sns.histplot(dataset['Spa'], color='b', bins=50, ax=ax[3]);\n",
    "sns.histplot(dataset['VRDeck'], color='b', bins=50, ax=ax[4]);\n",
    "ax[5].pie([len(dataset.loc[dataset['CryoSleep'] == True]), len(dataset.loc[dataset['CryoSleep'] == False])], labels=[\"CryoSleep == True\", \"CryoSleep == False\"])\n",
    "sns.histplot(dataset['HomePlanet'], color='b', bins=50, ax=ax[6])\n",
    "\n",
    "dataset[['Deck', 'Cabin_num', 'Side']] = dataset['Cabin'].str.split('/', expand=True)\n",
    "\n",
    "# Heatmap of missing values\n",
    "na_cols=dataset.columns[dataset.isna().any()].tolist()\n",
    "plt.figure(figsize=(12,6))\n",
    "sns.heatmap(dataset[na_cols].isna().T, cmap='summer')\n",
    "plt.title('Heatmap of missing values')\n",
    "\n",
    "print(len(dataset.loc[dataset['VIP'] == True]), \"vips sur\", len(dataset))"
   ]
  },
  {
   "cell_type": "code",
   "execution_count": null,
   "id": "c2867aa1-4dd7-491a-b814-1002e7ae8734",
   "metadata": {},
   "outputs": [],
   "source": [
    "# Statistiques sur les personnes ayant été transportées\n",
    "\n",
    "true_df = dataset.loc[dataset[\"Transported\"] == True]\n",
    "\n",
    "print(\"Statistiques sur les personnes ayant été transportées\")\n",
    "\n",
    "fig, ax = plt.subplots(9,1,  figsize=(10, 10))\n",
    "plt.subplots_adjust(top = 2)\n",
    "\n",
    "sns.histplot(true_df['Age'], color='b', bins=50, ax=ax[0])\n",
    "sns.histplot(np.log(1+true_df['FoodCourt']), color='b', bins=50, ax=ax[1])\n",
    "sns.histplot(true_df['ShoppingMall'], color='b', bins=50, ax=ax[2])\n",
    "sns.histplot(true_df['Spa'], color='b', bins=50, ax=ax[3])\n",
    "sns.histplot(true_df['VRDeck'], color='b', bins=50, ax=ax[4])\n",
    "ax[5].pie([len(true_df.loc[true_df['CryoSleep'] == True]), len(true_df.loc[true_df['CryoSleep'] == False])], labels=[\"CryoSleep == True\", \"CryoSleep == False\"])\n",
    "sns.histplot(true_df['HomePlanet'], color='b', bins=50, ax=ax[6])\n",
    "\n",
    "sns.histplot(true_df['Side'], color='b', bins=2, ax=ax[7])\n",
    "sns.histplot(true_df['Deck'], color='b', ax=ax[8])\n",
    "\n",
    "print(len(true_df.loc[true_df['VIP'] == True]), \"vips sur\", len(true_df))\n",
    "\n",
    "true_df.describe()"
   ]
  },
  {
   "cell_type": "code",
   "execution_count": null,
   "id": "9738a43a-ca17-4d51-a85c-a19abc28ed11",
   "metadata": {},
   "outputs": [],
   "source": [
    "# Statistiques sur les personnes n'ayant pas été transportées\n",
    "\n",
    "false_df = dataset.loc[dataset[\"Transported\"] == False]\n",
    "\n",
    "print(\"Statistiques sur les personnes n'ayant pas été transportées\")\n",
    "\n",
    "fig, ax = plt.subplots(9,1,  figsize=(10, 10))\n",
    "plt.subplots_adjust(top = 2)\n",
    "\n",
    "sns.histplot(false_df['Age'], color='b', bins=50, ax=ax[0]);\n",
    "sns.histplot(np.log(1+false_df['FoodCourt']), color='b', bins=50, ax=ax[1]);\n",
    "sns.histplot(false_df['ShoppingMall'], color='b', bins=50, ax=ax[2]);\n",
    "sns.histplot(false_df['Spa'], color='b', bins=50, ax=ax[3]);\n",
    "sns.histplot(false_df['VRDeck'], color='b', bins=50, ax=ax[4]);\n",
    "ax[5].pie([len(false_df.loc[false_df['CryoSleep'] == True]), len(false_df.loc[false_df['CryoSleep'] == False])], labels=[\"CryoSleep == True\", \"CryoSleep == False\"])\n",
    "sns.histplot(false_df['HomePlanet'], color='b', bins=50, ax=ax[6])\n",
    "\n",
    "sns.histplot(false_df['Side'], color='b', bins=2, ax=ax[7])\n",
    "sns.histplot(false_df['Deck'], color='b', ax=ax[8])\n",
    "\n",
    "print(len(false_df.loc[false_df['VIP'] == True]), \"vips sur\", len(false_df))\n",
    "\n",
    "false_df.describe()"
   ]
  },
  {
   "cell_type": "code",
   "execution_count": null,
   "id": "65d98891-6647-4ab5-bfde-fb08fd8c8264",
   "metadata": {},
   "outputs": [],
   "source": [
    "print(dataset.info())\n",
    "\n",
    "# Joint distribution of CabinDeck and HomePlanet\n",
    "CDHP_gb=dataset.groupby(['Deck','HomePlanet'])['HomePlanet'].size().unstack().fillna(0)\n",
    "\n",
    "# Heatmap of missing values\n",
    "plt.figure(figsize=(10,4))\n",
    "sns.heatmap(CDHP_gb.T, annot=True, fmt='g', cmap='coolwarm')\n",
    "\n",
    "\n",
    "\n",
    "# Joint distribution of HomePlanet and Destination\n",
    "HPD_gb=dataset.groupby(['HomePlanet','Destination'])['Destination'].size().unstack().fillna(0)\n",
    "\n",
    "# Heatmap of missing values\n",
    "plt.figure(figsize=(10,4))\n",
    "sns.heatmap(HPD_gb.T, annot=True, fmt='g', cmap='coolwarm')\n",
    "\n"
   ]
  },
  {
   "cell_type": "code",
   "execution_count": null,
   "id": "ff0ccf6a-0529-4931-8511-22276678386a",
   "metadata": {},
   "outputs": [],
   "source": [
    "fig=plt.figure(figsize=(10,5))\n",
    "\n",
    "dataset['Cabin_num'] = dataset['Cabin_num'].fillna(0).astype(int)\n",
    "\n",
    "print(dataset.info())\n",
    "\n",
    "sns.histplot(data=dataset, x='Cabin_num', hue='Transported',binwidth=20)\n",
    "plt.vlines(300, ymin=0, ymax=200, color='black')\n",
    "plt.vlines(600, ymin=0, ymax=200, color='black')\n",
    "plt.vlines(900, ymin=0, ymax=200, color='black')\n",
    "plt.vlines(1200, ymin=0, ymax=200, color='black')\n",
    "plt.vlines(1500, ymin=0, ymax=200, color='black')\n",
    "plt.vlines(1800, ymin=0, ymax=200, color='black')\n",
    "plt.title('Cabin number')\n",
    "plt.xlim([0,2000])"
   ]
  },
  {
   "cell_type": "code",
   "execution_count": null,
   "id": "991879ce-774d-422c-a7d6-cb0f42f3b768",
   "metadata": {},
   "outputs": [],
   "source": [
    "dataset['FoodCourt'] = np.log(1+dataset['FoodCourt'])\n",
    "dataset['VRDeck'] = np.log(1+dataset['VRDeck'])"
   ]
  },
  {
   "cell_type": "code",
   "execution_count": null,
   "id": "1d6c187e-c3d9-4b9e-a2ba-9e59d0cdf907",
   "metadata": {},
   "outputs": [],
   "source": [
    "dataset['ShoppingMall'] = np.log(1+dataset['ShoppingMall'])"
   ]
  },
  {
   "cell_type": "code",
   "execution_count": null,
   "id": "a24758f4-4ab0-4bb7-b40c-d9f8f057bed2",
   "metadata": {},
   "outputs": [],
   "source": [
    "exp_feats = ['RoomService', 'FoodCourt', 'ShoppingMall', 'Spa', 'VRDeck']\n",
    "dataset['Expenditure'] = dataset[exp_feats].sum(axis=1)\n",
    "dataset['NoSpending']  = (dataset['Expenditure']==0).astype(int)\n",
    "\n",
    "for side in ['P', 'S']:\n",
    "    print(side, dataset[(dataset['Side'] == side)]['NoSpending'].count())"
   ]
  },
  {
   "cell_type": "code",
   "execution_count": null,
   "id": "0b1b790d-e0df-48ac-be89-74575f1822a8",
   "metadata": {},
   "outputs": [],
   "source": [
    "dataset['Expenditure'] = np.log(1+dataset['Expenditure'])"
   ]
  },
  {
   "cell_type": "code",
   "execution_count": null,
   "id": "fbc0b121-e133-4b30-9872-02ebdbf9c52e",
   "metadata": {},
   "outputs": [],
   "source": [
    "dataset['RoomService'] = np.log(1+dataset['RoomService'])"
   ]
  },
  {
   "cell_type": "code",
   "execution_count": null,
   "id": "07561094-3ee0-4ff2-b887-e5ef8b99b29b",
   "metadata": {},
   "outputs": [],
   "source": [
    "dataset['Spa'] = np.log(1+dataset['Spa'])"
   ]
  },
  {
   "cell_type": "code",
   "execution_count": null,
   "id": "f871048b-e268-4a47-8db6-29a330fbe825",
   "metadata": {},
   "outputs": [],
   "source": [
    "dataset.info()"
   ]
  },
  {
   "cell_type": "code",
   "execution_count": null,
   "id": "cd32452d-f687-4b87-a30e-ab14b628e534",
   "metadata": {},
   "outputs": [],
   "source": [
    "dataset['Group'] = dataset['PassengerId'].str.split('_').str[0]\n",
    "groups_size = dataset['Group'].value_counts().reset_index()\n",
    "groups_size.columns = ['Group', 'GroupSize']\n",
    "dataset = dataset.merge(groups_size, on='Group')\n",
    "dataset.loc[(dataset['GroupSize'] == 1), 'Solo'] = 1\n",
    "dataset['Solo'] = dataset['Solo'].fillna(0).astype(int)"
   ]
  },
  {
   "cell_type": "code",
   "execution_count": 32,
   "id": "139d14b0-71f5-4b57-a2ea-8ca7379e5bce",
   "metadata": {},
   "outputs": [
    {
     "name": "stderr",
     "output_type": "stream",
     "text": [
      "/home/antoine/.local/lib/python3.12/site-packages/seaborn/_base.py:949: FutureWarning: When grouping with a length-1 list-like, you will need to pass a length-1 tuple to get_group in a future version of pandas. Pass `(name,)` instead of `name` to silence this warning.\n",
      "  data_subset = grouped_data.get_group(pd_key)\n",
      "/home/antoine/.local/lib/python3.12/site-packages/seaborn/_base.py:949: FutureWarning: When grouping with a length-1 list-like, you will need to pass a length-1 tuple to get_group in a future version of pandas. Pass `(name,)` instead of `name` to silence this warning.\n",
      "  data_subset = grouped_data.get_group(pd_key)\n"
     ]
    },
    {
     "data": {
      "text/plain": [
       "<Axes: xlabel='GroupSize', ylabel='Count'>"
      ]
     },
     "execution_count": 32,
     "metadata": {},
     "output_type": "execute_result"
    },
    {
     "data": {
      "image/png": "[encoded data removed]",
      "text/plain": [
       "<Figure size 640x480 with 1 Axes>"
      ]
     },
     "metadata": {},
     "output_type": "display_data"
    }
   ],
   "source": [
    "sns.histplot(data=dataset, x='GroupSize', hue='Transported')"
   ]
  },
  {
   "cell_type": "code",
   "execution_count": 34,
   "id": "93c47278-d490-4f34-813d-beb569ac27b9",
   "metadata": {},
   "outputs": [
    {
     "ename": "ValueError",
     "evalue": "Could not interpret value `0-12` for `hue`. An entry with this name does not appear in `data`.",
     "output_type": "error",
     "traceback": [
      "\u001b[0;31m---------------------------------------------------------------------------\u001b[0m",
      "\u001b[0;31mValueError\u001b[0m                                Traceback (most recent call last)",
      "Cell \u001b[0;32mIn[34], line 1\u001b[0m\n\u001b[0;32m----> 1\u001b[0m \u001b[43msns\u001b[49m\u001b[38;5;241;43m.\u001b[39;49m\u001b[43mhistplot\u001b[49m\u001b[43m(\u001b[49m\u001b[43mdata\u001b[49m\u001b[38;5;241;43m=\u001b[39;49m\u001b[43mdataset\u001b[49m\u001b[43m,\u001b[49m\u001b[43m \u001b[49m\u001b[43mx\u001b[49m\u001b[38;5;241;43m=\u001b[39;49m\u001b[38;5;124;43m'\u001b[39;49m\u001b[38;5;124;43mGroupSize\u001b[39;49m\u001b[38;5;124;43m'\u001b[39;49m\u001b[43m,\u001b[49m\u001b[43m \u001b[49m\u001b[43mhue\u001b[49m\u001b[38;5;241;43m=\u001b[39;49m\u001b[38;5;124;43m'\u001b[39;49m\u001b[38;5;124;43m0-12\u001b[39;49m\u001b[38;5;124;43m'\u001b[39;49m\u001b[43m)\u001b[49m\n",
      "File \u001b[0;32m~/.local/lib/python3.12/site-packages/seaborn/distributions.py:1379\u001b[0m, in \u001b[0;36mhistplot\u001b[0;34m(data, x, y, hue, weights, stat, bins, binwidth, binrange, discrete, cumulative, common_bins, common_norm, multiple, element, fill, shrink, kde, kde_kws, line_kws, thresh, pthresh, pmax, cbar, cbar_ax, cbar_kws, palette, hue_order, hue_norm, color, log_scale, legend, ax, **kwargs)\u001b[0m\n\u001b[1;32m   1358\u001b[0m \u001b[38;5;28;01mdef\u001b[39;00m \u001b[38;5;21mhistplot\u001b[39m(\n\u001b[1;32m   1359\u001b[0m     data\u001b[38;5;241m=\u001b[39m\u001b[38;5;28;01mNone\u001b[39;00m, \u001b[38;5;241m*\u001b[39m,\n\u001b[1;32m   1360\u001b[0m     \u001b[38;5;66;03m# Vector variables\u001b[39;00m\n\u001b[0;32m   (...)\u001b[0m\n\u001b[1;32m   1376\u001b[0m     \u001b[38;5;241m*\u001b[39m\u001b[38;5;241m*\u001b[39mkwargs,\n\u001b[1;32m   1377\u001b[0m ):\n\u001b[0;32m-> 1379\u001b[0m     p \u001b[38;5;241m=\u001b[39m \u001b[43m_DistributionPlotter\u001b[49m\u001b[43m(\u001b[49m\n\u001b[1;32m   1380\u001b[0m \u001b[43m        \u001b[49m\u001b[43mdata\u001b[49m\u001b[38;5;241;43m=\u001b[39;49m\u001b[43mdata\u001b[49m\u001b[43m,\u001b[49m\n\u001b[1;32m   1381\u001b[0m \u001b[43m        \u001b[49m\u001b[43mvariables\u001b[49m\u001b[38;5;241;43m=\u001b[39;49m\u001b[38;5;28;43mdict\u001b[39;49m\u001b[43m(\u001b[49m\u001b[43mx\u001b[49m\u001b[38;5;241;43m=\u001b[39;49m\u001b[43mx\u001b[49m\u001b[43m,\u001b[49m\u001b[43m \u001b[49m\u001b[43my\u001b[49m\u001b[38;5;241;43m=\u001b[39;49m\u001b[43my\u001b[49m\u001b[43m,\u001b[49m\u001b[43m \u001b[49m\u001b[43mhue\u001b[49m\u001b[38;5;241;43m=\u001b[39;49m\u001b[43mhue\u001b[49m\u001b[43m,\u001b[49m\u001b[43m \u001b[49m\u001b[43mweights\u001b[49m\u001b[38;5;241;43m=\u001b[39;49m\u001b[43mweights\u001b[49m\u001b[43m)\u001b[49m\u001b[43m,\u001b[49m\n\u001b[1;32m   1382\u001b[0m \u001b[43m    \u001b[49m\u001b[43m)\u001b[49m\n\u001b[1;32m   1384\u001b[0m     p\u001b[38;5;241m.\u001b[39mmap_hue(palette\u001b[38;5;241m=\u001b[39mpalette, order\u001b[38;5;241m=\u001b[39mhue_order, norm\u001b[38;5;241m=\u001b[39mhue_norm)\n\u001b[1;32m   1386\u001b[0m     \u001b[38;5;28;01mif\u001b[39;00m ax \u001b[38;5;129;01mis\u001b[39;00m \u001b[38;5;28;01mNone\u001b[39;00m:\n",
      "File \u001b[0;32m~/.local/lib/python3.12/site-packages/seaborn/distributions.py:110\u001b[0m, in \u001b[0;36m_DistributionPlotter.__init__\u001b[0;34m(self, data, variables)\u001b[0m\n\u001b[1;32m    104\u001b[0m \u001b[38;5;28;01mdef\u001b[39;00m \u001b[38;5;21m__init__\u001b[39m(\n\u001b[1;32m    105\u001b[0m     \u001b[38;5;28mself\u001b[39m,\n\u001b[1;32m    106\u001b[0m     data\u001b[38;5;241m=\u001b[39m\u001b[38;5;28;01mNone\u001b[39;00m,\n\u001b[1;32m    107\u001b[0m     variables\u001b[38;5;241m=\u001b[39m{},\n\u001b[1;32m    108\u001b[0m ):\n\u001b[0;32m--> 110\u001b[0m     \u001b[38;5;28;43msuper\u001b[39;49m\u001b[43m(\u001b[49m\u001b[43m)\u001b[49m\u001b[38;5;241;43m.\u001b[39;49m\u001b[38;5;21;43m__init__\u001b[39;49m\u001b[43m(\u001b[49m\u001b[43mdata\u001b[49m\u001b[38;5;241;43m=\u001b[39;49m\u001b[43mdata\u001b[49m\u001b[43m,\u001b[49m\u001b[43m \u001b[49m\u001b[43mvariables\u001b[49m\u001b[38;5;241;43m=\u001b[39;49m\u001b[43mvariables\u001b[49m\u001b[43m)\u001b[49m\n",
      "File \u001b[0;32m~/.local/lib/python3.12/site-packages/seaborn/_base.py:634\u001b[0m, in \u001b[0;36mVectorPlotter.__init__\u001b[0;34m(self, data, variables)\u001b[0m\n\u001b[1;32m    629\u001b[0m \u001b[38;5;66;03m# var_ordered is relevant only for categorical axis variables, and may\u001b[39;00m\n\u001b[1;32m    630\u001b[0m \u001b[38;5;66;03m# be better handled by an internal axis information object that tracks\u001b[39;00m\n\u001b[1;32m    631\u001b[0m \u001b[38;5;66;03m# such information and is set up by the scale_* methods. The analogous\u001b[39;00m\n\u001b[1;32m    632\u001b[0m \u001b[38;5;66;03m# information for numeric axes would be information about log scales.\u001b[39;00m\n\u001b[1;32m    633\u001b[0m \u001b[38;5;28mself\u001b[39m\u001b[38;5;241m.\u001b[39m_var_ordered \u001b[38;5;241m=\u001b[39m {\u001b[38;5;124m\"\u001b[39m\u001b[38;5;124mx\u001b[39m\u001b[38;5;124m\"\u001b[39m: \u001b[38;5;28;01mFalse\u001b[39;00m, \u001b[38;5;124m\"\u001b[39m\u001b[38;5;124my\u001b[39m\u001b[38;5;124m\"\u001b[39m: \u001b[38;5;28;01mFalse\u001b[39;00m}  \u001b[38;5;66;03m# alt., used DefaultDict\u001b[39;00m\n\u001b[0;32m--> 634\u001b[0m \u001b[38;5;28;43mself\u001b[39;49m\u001b[38;5;241;43m.\u001b[39;49m\u001b[43massign_variables\u001b[49m\u001b[43m(\u001b[49m\u001b[43mdata\u001b[49m\u001b[43m,\u001b[49m\u001b[43m \u001b[49m\u001b[43mvariables\u001b[49m\u001b[43m)\u001b[49m\n\u001b[1;32m    636\u001b[0m \u001b[38;5;66;03m# TODO Lots of tests assume that these are called to initialize the\u001b[39;00m\n\u001b[1;32m    637\u001b[0m \u001b[38;5;66;03m# mappings to default values on class initialization. I'd prefer to\u001b[39;00m\n\u001b[1;32m    638\u001b[0m \u001b[38;5;66;03m# move away from that and only have a mapping when explicitly called.\u001b[39;00m\n\u001b[1;32m    639\u001b[0m \u001b[38;5;28;01mfor\u001b[39;00m var \u001b[38;5;129;01min\u001b[39;00m [\u001b[38;5;124m\"\u001b[39m\u001b[38;5;124mhue\u001b[39m\u001b[38;5;124m\"\u001b[39m, \u001b[38;5;124m\"\u001b[39m\u001b[38;5;124msize\u001b[39m\u001b[38;5;124m\"\u001b[39m, \u001b[38;5;124m\"\u001b[39m\u001b[38;5;124mstyle\u001b[39m\u001b[38;5;124m\"\u001b[39m]:\n",
      "File \u001b[0;32m~/.local/lib/python3.12/site-packages/seaborn/_base.py:679\u001b[0m, in \u001b[0;36mVectorPlotter.assign_variables\u001b[0;34m(self, data, variables)\u001b[0m\n\u001b[1;32m    674\u001b[0m \u001b[38;5;28;01melse\u001b[39;00m:\n\u001b[1;32m    675\u001b[0m     \u001b[38;5;66;03m# When dealing with long-form input, use the newer PlotData\u001b[39;00m\n\u001b[1;32m    676\u001b[0m     \u001b[38;5;66;03m# object (internal but introduced for the objects interface)\u001b[39;00m\n\u001b[1;32m    677\u001b[0m     \u001b[38;5;66;03m# to centralize / standardize data consumption logic.\u001b[39;00m\n\u001b[1;32m    678\u001b[0m     \u001b[38;5;28mself\u001b[39m\u001b[38;5;241m.\u001b[39minput_format \u001b[38;5;241m=\u001b[39m \u001b[38;5;124m\"\u001b[39m\u001b[38;5;124mlong\u001b[39m\u001b[38;5;124m\"\u001b[39m\n\u001b[0;32m--> 679\u001b[0m     plot_data \u001b[38;5;241m=\u001b[39m \u001b[43mPlotData\u001b[49m\u001b[43m(\u001b[49m\u001b[43mdata\u001b[49m\u001b[43m,\u001b[49m\u001b[43m \u001b[49m\u001b[43mvariables\u001b[49m\u001b[43m)\u001b[49m\n\u001b[1;32m    680\u001b[0m     frame \u001b[38;5;241m=\u001b[39m plot_data\u001b[38;5;241m.\u001b[39mframe\n\u001b[1;32m    681\u001b[0m     names \u001b[38;5;241m=\u001b[39m plot_data\u001b[38;5;241m.\u001b[39mnames\n",
      "File \u001b[0;32m~/.local/lib/python3.12/site-packages/seaborn/_core/data.py:58\u001b[0m, in \u001b[0;36mPlotData.__init__\u001b[0;34m(self, data, variables)\u001b[0m\n\u001b[1;32m     51\u001b[0m \u001b[38;5;28;01mdef\u001b[39;00m \u001b[38;5;21m__init__\u001b[39m(\n\u001b[1;32m     52\u001b[0m     \u001b[38;5;28mself\u001b[39m,\n\u001b[1;32m     53\u001b[0m     data: DataSource,\n\u001b[1;32m     54\u001b[0m     variables: \u001b[38;5;28mdict\u001b[39m[\u001b[38;5;28mstr\u001b[39m, VariableSpec],\n\u001b[1;32m     55\u001b[0m ):\n\u001b[1;32m     57\u001b[0m     data \u001b[38;5;241m=\u001b[39m handle_data_source(data)\n\u001b[0;32m---> 58\u001b[0m     frame, names, ids \u001b[38;5;241m=\u001b[39m \u001b[38;5;28;43mself\u001b[39;49m\u001b[38;5;241;43m.\u001b[39;49m\u001b[43m_assign_variables\u001b[49m\u001b[43m(\u001b[49m\u001b[43mdata\u001b[49m\u001b[43m,\u001b[49m\u001b[43m \u001b[49m\u001b[43mvariables\u001b[49m\u001b[43m)\u001b[49m\n\u001b[1;32m     60\u001b[0m     \u001b[38;5;28mself\u001b[39m\u001b[38;5;241m.\u001b[39mframe \u001b[38;5;241m=\u001b[39m frame\n\u001b[1;32m     61\u001b[0m     \u001b[38;5;28mself\u001b[39m\u001b[38;5;241m.\u001b[39mnames \u001b[38;5;241m=\u001b[39m names\n",
      "File \u001b[0;32m~/.local/lib/python3.12/site-packages/seaborn/_core/data.py:232\u001b[0m, in \u001b[0;36mPlotData._assign_variables\u001b[0;34m(self, data, variables)\u001b[0m\n\u001b[1;32m    230\u001b[0m     \u001b[38;5;28;01melse\u001b[39;00m:\n\u001b[1;32m    231\u001b[0m         err \u001b[38;5;241m+\u001b[39m\u001b[38;5;241m=\u001b[39m \u001b[38;5;124m\"\u001b[39m\u001b[38;5;124mAn entry with this name does not appear in `data`.\u001b[39m\u001b[38;5;124m\"\u001b[39m\n\u001b[0;32m--> 232\u001b[0m     \u001b[38;5;28;01mraise\u001b[39;00m \u001b[38;5;167;01mValueError\u001b[39;00m(err)\n\u001b[1;32m    234\u001b[0m \u001b[38;5;28;01melse\u001b[39;00m:\n\u001b[1;32m    235\u001b[0m \n\u001b[1;32m    236\u001b[0m     \u001b[38;5;66;03m# Otherwise, assume the value somehow represents data\u001b[39;00m\n\u001b[1;32m    237\u001b[0m \n\u001b[1;32m    238\u001b[0m     \u001b[38;5;66;03m# Ignore empty data structures\u001b[39;00m\n\u001b[1;32m    239\u001b[0m     \u001b[38;5;28;01mif\u001b[39;00m \u001b[38;5;28misinstance\u001b[39m(val, Sized) \u001b[38;5;129;01mand\u001b[39;00m \u001b[38;5;28mlen\u001b[39m(val) \u001b[38;5;241m==\u001b[39m \u001b[38;5;241m0\u001b[39m:\n",
      "\u001b[0;31mValueError\u001b[0m: Could not interpret value `0-12` for `hue`. An entry with this name does not appear in `data`."
     ]
    }
   ],
   "source": [
    "sns.histplot(data=dataset, x='GroupSize', hue='0-12')"
   ]
  },
  {
   "cell_type": "code",
   "execution_count": 52,
   "id": "03b7659f-ecfe-4f03-bb1f-6cb0791f40c0",
   "metadata": {},
   "outputs": [
    {
     "name": "stdout",
     "output_type": "stream",
     "text": [
      "A 0.34375\n",
      "A TRAPPIST-1e 142\n",
      "A PSO J318.5-22 2\n",
      "A 55 Cancri e 108\n",
      "B 0.6046213093709885\n",
      "B TRAPPIST-1e 426\n",
      "B PSO J318.5-22 3\n",
      "B 55 Cancri e 333\n",
      "C 0.4323962516733601\n",
      "C TRAPPIST-1e 405\n",
      "C PSO J318.5-22 13\n",
      "C 55 Cancri e 317\n",
      "D 0.2280334728033473\n",
      "D TRAPPIST-1e 338\n",
      "D PSO J318.5-22 17\n",
      "D 55 Cancri e 113\n",
      "E 0.2636986301369863\n",
      "E TRAPPIST-1e 696\n",
      "E PSO J318.5-22 41\n",
      "E 55 Cancri e 116\n",
      "F 0.23407301360057264\n",
      "F TRAPPIST-1e 2088\n",
      "F PSO J318.5-22 241\n",
      "F 55 Cancri e 398\n",
      "G 0.6565064478311841\n",
      "G TRAPPIST-1e 1688\n",
      "G PSO J318.5-22 461\n",
      "G 55 Cancri e 365\n",
      "T 0.0\n",
      "T TRAPPIST-1e 5\n",
      "T PSO J318.5-22 0\n",
      "T 55 Cancri e 0\n"
     ]
    }
   ],
   "source": [
    "exp_feats = ['RoomService', 'FoodCourt', 'ShoppingMall', 'Spa', 'VRDeck']\n",
    "dataset['Expenditure'] = dataset[exp_feats].sum(axis=1)\n",
    "dataset['NoSpending']  = (dataset['Expenditure']==0).astype(int)\n",
    "\n",
    "for deck in ['A', 'B', 'C', 'D', 'E', 'F', 'G', 'T']:\n",
    "    print(deck, dataset[dataset['Deck'] == deck]['NoSpending'].sum() / dataset[dataset['Deck'] == deck]['PassengerId'].count())\n",
    "    for destination in ['TRAPPIST-1e', 'PSO J318.5-22', '55 Cancri e']:\n",
    "        print(deck, destination, dataset[(dataset['Destination'] == destination) & (dataset['Deck'] == deck)]['PassengerId'].count())"
   ]
  },
  {
   "cell_type": "code",
   "execution_count": null,
   "id": "37b7d01e-38f9-4693-8045-ffb94f57cbe9",
   "metadata": {},
   "outputs": [],
   "source": []
  }
 ],
 "metadata": {
  "kernelspec": {
   "display_name": "Python 3 (ipykernel)",
   "language": "python",
   "name": "python3"
  },
  "language_info": {
   "codemirror_mode": {
    "name": "ipython",
    "version": 3
   },
   "file_extension": ".py",
   "mimetype": "text/x-python",
   "name": "python",
   "nbconvert_exporter": "python",
   "pygments_lexer": "ipython3",
   "version": "3.12.2"
  }
 },
 "nbformat": 4,
 "nbformat_minor": 5
}
